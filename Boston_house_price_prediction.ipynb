{
  "nbformat": 4,
  "nbformat_minor": 0,
  "metadata": {
    "colab": {
      "name": "Boston house price prediction.ipynb",
      "provenance": [],
      "collapsed_sections": [],
      "authorship_tag": "ABX9TyOexQlTcpjCtd598GQK5dDE",
      "include_colab_link": true
    },
    "kernelspec": {
      "name": "python3",
      "display_name": "Python 3"
    },
    "language_info": {
      "name": "python"
    }
  },
  "cells": [
    {
      "cell_type": "markdown",
      "metadata": {
        "id": "view-in-github",
        "colab_type": "text"
      },
      "source": [
        "<a href=\"https://colab.research.google.com/github/trkhan0071/Machine-Learning-/blob/main/Boston_house_price_prediction.ipynb\" target=\"_parent\"><img src=\"https://colab.research.google.com/assets/colab-badge.svg\" alt=\"Open In Colab\"/></a>"
      ]
    },
    {
      "cell_type": "markdown",
      "metadata": {
        "id": "cBFdldskH_NL"
      },
      "source": [
        "#import data"
      ]
    },
    {
      "cell_type": "code",
      "metadata": {
        "id": "2fB58SIqgr-2"
      },
      "source": [
        "import numpy as np\n",
        "import pandas as pd\n",
        "import matplotlib.pyplot as plt\n",
        "import seaborn as sns\n",
        "from sklearn.metrics import mean_squared_error\n",
        "from sklearn.model_selection import cross_val_score\n",
        "from collections import Counter\n"
      ],
      "execution_count": 2,
      "outputs": []
    },
    {
      "cell_type": "markdown",
      "metadata": {
        "id": "Saq6HUdhB0w9"
      },
      "source": [
        "dataset link http://lib.stat.cmu.edu/datasets/boston\n",
        "\n",
        "CRIM     per capita crime rate by town\n",
        "\n",
        "ZN       proportion of residential land zoned for lots over 25,000 sq.ft.\n",
        "\n",
        "INDUS    proportion of non-retail business acres per town\n",
        "\n",
        "CHAS     Charles River dummy variable (= 1 if tract bounds river; 0 otherwise)\n",
        "\n",
        "NOX      nitric oxides concentration (parts per 10 million)\n",
        "\n",
        "RM       average number of rooms per dwelling\n",
        "\n",
        "AGE      proportion of owner-occupied units built prior to 1940\n",
        "\n",
        "DIS      weighted distances to five Boston employment centres\n",
        "\n",
        "RAD      index of accessibility to radial highways\n",
        "\n",
        "TAX      full-value property-tax rate per $10,000\n",
        "\n",
        "PTRATIO  pupil-teacher ratio by town\n",
        "\n",
        "B        1000(Bk - 0.63)^2 where Bk is the proportion of blacks by town\n",
        "\n",
        "LSTAT    % lower status of the population\n",
        "\n",
        "MEDV     Median value of owner-occupied homes in $1000's"
      ]
    },
    {
      "cell_type": "code",
      "metadata": {
        "colab": {
          "base_uri": "https://localhost:8080/",
          "height": 428
        },
        "id": "i1tPiB_9-7x4",
        "outputId": "beea7fa9-adda-4ec7-bf49-c4c0b0d1fd16"
      },
      "source": [
        "from sklearn.datasets import load_boston\n",
        "boston_dataset = load_boston()\n",
        "dataset = pd.DataFrame(boston_dataset.data,columns=boston_dataset.feature_names)\n",
        "dataset.head().T"
      ],
      "execution_count": 3,
      "outputs": [
        {
          "output_type": "execute_result",
          "data": {
            "text/html": [
              "<div>\n",
              "<style scoped>\n",
              "    .dataframe tbody tr th:only-of-type {\n",
              "        vertical-align: middle;\n",
              "    }\n",
              "\n",
              "    .dataframe tbody tr th {\n",
              "        vertical-align: top;\n",
              "    }\n",
              "\n",
              "    .dataframe thead th {\n",
              "        text-align: right;\n",
              "    }\n",
              "</style>\n",
              "<table border=\"1\" class=\"dataframe\">\n",
              "  <thead>\n",
              "    <tr style=\"text-align: right;\">\n",
              "      <th></th>\n",
              "      <th>0</th>\n",
              "      <th>1</th>\n",
              "      <th>2</th>\n",
              "      <th>3</th>\n",
              "      <th>4</th>\n",
              "    </tr>\n",
              "  </thead>\n",
              "  <tbody>\n",
              "    <tr>\n",
              "      <th>CRIM</th>\n",
              "      <td>0.00632</td>\n",
              "      <td>0.02731</td>\n",
              "      <td>0.02729</td>\n",
              "      <td>0.03237</td>\n",
              "      <td>0.06905</td>\n",
              "    </tr>\n",
              "    <tr>\n",
              "      <th>ZN</th>\n",
              "      <td>18.00000</td>\n",
              "      <td>0.00000</td>\n",
              "      <td>0.00000</td>\n",
              "      <td>0.00000</td>\n",
              "      <td>0.00000</td>\n",
              "    </tr>\n",
              "    <tr>\n",
              "      <th>INDUS</th>\n",
              "      <td>2.31000</td>\n",
              "      <td>7.07000</td>\n",
              "      <td>7.07000</td>\n",
              "      <td>2.18000</td>\n",
              "      <td>2.18000</td>\n",
              "    </tr>\n",
              "    <tr>\n",
              "      <th>CHAS</th>\n",
              "      <td>0.00000</td>\n",
              "      <td>0.00000</td>\n",
              "      <td>0.00000</td>\n",
              "      <td>0.00000</td>\n",
              "      <td>0.00000</td>\n",
              "    </tr>\n",
              "    <tr>\n",
              "      <th>NOX</th>\n",
              "      <td>0.53800</td>\n",
              "      <td>0.46900</td>\n",
              "      <td>0.46900</td>\n",
              "      <td>0.45800</td>\n",
              "      <td>0.45800</td>\n",
              "    </tr>\n",
              "    <tr>\n",
              "      <th>RM</th>\n",
              "      <td>6.57500</td>\n",
              "      <td>6.42100</td>\n",
              "      <td>7.18500</td>\n",
              "      <td>6.99800</td>\n",
              "      <td>7.14700</td>\n",
              "    </tr>\n",
              "    <tr>\n",
              "      <th>AGE</th>\n",
              "      <td>65.20000</td>\n",
              "      <td>78.90000</td>\n",
              "      <td>61.10000</td>\n",
              "      <td>45.80000</td>\n",
              "      <td>54.20000</td>\n",
              "    </tr>\n",
              "    <tr>\n",
              "      <th>DIS</th>\n",
              "      <td>4.09000</td>\n",
              "      <td>4.96710</td>\n",
              "      <td>4.96710</td>\n",
              "      <td>6.06220</td>\n",
              "      <td>6.06220</td>\n",
              "    </tr>\n",
              "    <tr>\n",
              "      <th>RAD</th>\n",
              "      <td>1.00000</td>\n",
              "      <td>2.00000</td>\n",
              "      <td>2.00000</td>\n",
              "      <td>3.00000</td>\n",
              "      <td>3.00000</td>\n",
              "    </tr>\n",
              "    <tr>\n",
              "      <th>TAX</th>\n",
              "      <td>296.00000</td>\n",
              "      <td>242.00000</td>\n",
              "      <td>242.00000</td>\n",
              "      <td>222.00000</td>\n",
              "      <td>222.00000</td>\n",
              "    </tr>\n",
              "    <tr>\n",
              "      <th>PTRATIO</th>\n",
              "      <td>15.30000</td>\n",
              "      <td>17.80000</td>\n",
              "      <td>17.80000</td>\n",
              "      <td>18.70000</td>\n",
              "      <td>18.70000</td>\n",
              "    </tr>\n",
              "    <tr>\n",
              "      <th>B</th>\n",
              "      <td>396.90000</td>\n",
              "      <td>396.90000</td>\n",
              "      <td>392.83000</td>\n",
              "      <td>394.63000</td>\n",
              "      <td>396.90000</td>\n",
              "    </tr>\n",
              "    <tr>\n",
              "      <th>LSTAT</th>\n",
              "      <td>4.98000</td>\n",
              "      <td>9.14000</td>\n",
              "      <td>4.03000</td>\n",
              "      <td>2.94000</td>\n",
              "      <td>5.33000</td>\n",
              "    </tr>\n",
              "  </tbody>\n",
              "</table>\n",
              "</div>"
            ],
            "text/plain": [
              "                 0          1          2          3          4\n",
              "CRIM       0.00632    0.02731    0.02729    0.03237    0.06905\n",
              "ZN        18.00000    0.00000    0.00000    0.00000    0.00000\n",
              "INDUS      2.31000    7.07000    7.07000    2.18000    2.18000\n",
              "CHAS       0.00000    0.00000    0.00000    0.00000    0.00000\n",
              "NOX        0.53800    0.46900    0.46900    0.45800    0.45800\n",
              "RM         6.57500    6.42100    7.18500    6.99800    7.14700\n",
              "AGE       65.20000   78.90000   61.10000   45.80000   54.20000\n",
              "DIS        4.09000    4.96710    4.96710    6.06220    6.06220\n",
              "RAD        1.00000    2.00000    2.00000    3.00000    3.00000\n",
              "TAX      296.00000  242.00000  242.00000  222.00000  222.00000\n",
              "PTRATIO   15.30000   17.80000   17.80000   18.70000   18.70000\n",
              "B        396.90000  396.90000  392.83000  394.63000  396.90000\n",
              "LSTAT      4.98000    9.14000    4.03000    2.94000    5.33000"
            ]
          },
          "metadata": {
            "tags": []
          },
          "execution_count": 3
        }
      ]
    },
    {
      "cell_type": "code",
      "metadata": {
        "id": "_aEfaLT4GmZl",
        "colab": {
          "base_uri": "https://localhost:8080/",
          "height": 194
        },
        "outputId": "b899c152-a557-4445-93b5-54f70acdc233"
      },
      "source": [
        "dataset['MEDV'] = boston_dataset.target\n",
        "dataset.head()"
      ],
      "execution_count": 4,
      "outputs": [
        {
          "output_type": "execute_result",
          "data": {
            "text/html": [
              "<div>\n",
              "<style scoped>\n",
              "    .dataframe tbody tr th:only-of-type {\n",
              "        vertical-align: middle;\n",
              "    }\n",
              "\n",
              "    .dataframe tbody tr th {\n",
              "        vertical-align: top;\n",
              "    }\n",
              "\n",
              "    .dataframe thead th {\n",
              "        text-align: right;\n",
              "    }\n",
              "</style>\n",
              "<table border=\"1\" class=\"dataframe\">\n",
              "  <thead>\n",
              "    <tr style=\"text-align: right;\">\n",
              "      <th></th>\n",
              "      <th>CRIM</th>\n",
              "      <th>ZN</th>\n",
              "      <th>INDUS</th>\n",
              "      <th>CHAS</th>\n",
              "      <th>NOX</th>\n",
              "      <th>RM</th>\n",
              "      <th>AGE</th>\n",
              "      <th>DIS</th>\n",
              "      <th>RAD</th>\n",
              "      <th>TAX</th>\n",
              "      <th>PTRATIO</th>\n",
              "      <th>B</th>\n",
              "      <th>LSTAT</th>\n",
              "      <th>MEDV</th>\n",
              "    </tr>\n",
              "  </thead>\n",
              "  <tbody>\n",
              "    <tr>\n",
              "      <th>0</th>\n",
              "      <td>0.00632</td>\n",
              "      <td>18.0</td>\n",
              "      <td>2.31</td>\n",
              "      <td>0.0</td>\n",
              "      <td>0.538</td>\n",
              "      <td>6.575</td>\n",
              "      <td>65.2</td>\n",
              "      <td>4.0900</td>\n",
              "      <td>1.0</td>\n",
              "      <td>296.0</td>\n",
              "      <td>15.3</td>\n",
              "      <td>396.90</td>\n",
              "      <td>4.98</td>\n",
              "      <td>24.0</td>\n",
              "    </tr>\n",
              "    <tr>\n",
              "      <th>1</th>\n",
              "      <td>0.02731</td>\n",
              "      <td>0.0</td>\n",
              "      <td>7.07</td>\n",
              "      <td>0.0</td>\n",
              "      <td>0.469</td>\n",
              "      <td>6.421</td>\n",
              "      <td>78.9</td>\n",
              "      <td>4.9671</td>\n",
              "      <td>2.0</td>\n",
              "      <td>242.0</td>\n",
              "      <td>17.8</td>\n",
              "      <td>396.90</td>\n",
              "      <td>9.14</td>\n",
              "      <td>21.6</td>\n",
              "    </tr>\n",
              "    <tr>\n",
              "      <th>2</th>\n",
              "      <td>0.02729</td>\n",
              "      <td>0.0</td>\n",
              "      <td>7.07</td>\n",
              "      <td>0.0</td>\n",
              "      <td>0.469</td>\n",
              "      <td>7.185</td>\n",
              "      <td>61.1</td>\n",
              "      <td>4.9671</td>\n",
              "      <td>2.0</td>\n",
              "      <td>242.0</td>\n",
              "      <td>17.8</td>\n",
              "      <td>392.83</td>\n",
              "      <td>4.03</td>\n",
              "      <td>34.7</td>\n",
              "    </tr>\n",
              "    <tr>\n",
              "      <th>3</th>\n",
              "      <td>0.03237</td>\n",
              "      <td>0.0</td>\n",
              "      <td>2.18</td>\n",
              "      <td>0.0</td>\n",
              "      <td>0.458</td>\n",
              "      <td>6.998</td>\n",
              "      <td>45.8</td>\n",
              "      <td>6.0622</td>\n",
              "      <td>3.0</td>\n",
              "      <td>222.0</td>\n",
              "      <td>18.7</td>\n",
              "      <td>394.63</td>\n",
              "      <td>2.94</td>\n",
              "      <td>33.4</td>\n",
              "    </tr>\n",
              "    <tr>\n",
              "      <th>4</th>\n",
              "      <td>0.06905</td>\n",
              "      <td>0.0</td>\n",
              "      <td>2.18</td>\n",
              "      <td>0.0</td>\n",
              "      <td>0.458</td>\n",
              "      <td>7.147</td>\n",
              "      <td>54.2</td>\n",
              "      <td>6.0622</td>\n",
              "      <td>3.0</td>\n",
              "      <td>222.0</td>\n",
              "      <td>18.7</td>\n",
              "      <td>396.90</td>\n",
              "      <td>5.33</td>\n",
              "      <td>36.2</td>\n",
              "    </tr>\n",
              "  </tbody>\n",
              "</table>\n",
              "</div>"
            ],
            "text/plain": [
              "      CRIM    ZN  INDUS  CHAS    NOX  ...    TAX  PTRATIO       B  LSTAT  MEDV\n",
              "0  0.00632  18.0   2.31   0.0  0.538  ...  296.0     15.3  396.90   4.98  24.0\n",
              "1  0.02731   0.0   7.07   0.0  0.469  ...  242.0     17.8  396.90   9.14  21.6\n",
              "2  0.02729   0.0   7.07   0.0  0.469  ...  242.0     17.8  392.83   4.03  34.7\n",
              "3  0.03237   0.0   2.18   0.0  0.458  ...  222.0     18.7  394.63   2.94  33.4\n",
              "4  0.06905   0.0   2.18   0.0  0.458  ...  222.0     18.7  396.90   5.33  36.2\n",
              "\n",
              "[5 rows x 14 columns]"
            ]
          },
          "metadata": {
            "tags": []
          },
          "execution_count": 4
        }
      ]
    },
    {
      "cell_type": "markdown",
      "metadata": {
        "id": "8uJocI_tID7M"
      },
      "source": [
        "#data analysis"
      ]
    },
    {
      "cell_type": "code",
      "metadata": {
        "colab": {
          "base_uri": "https://localhost:8080/"
        },
        "id": "0ZDpGtRGHM0k",
        "outputId": "dfb34ab3-dfa8-4a26-927d-8340d95006db"
      },
      "source": [
        "dataset.isnull().sum()"
      ],
      "execution_count": 5,
      "outputs": [
        {
          "output_type": "execute_result",
          "data": {
            "text/plain": [
              "CRIM       0\n",
              "ZN         0\n",
              "INDUS      0\n",
              "CHAS       0\n",
              "NOX        0\n",
              "RM         0\n",
              "AGE        0\n",
              "DIS        0\n",
              "RAD        0\n",
              "TAX        0\n",
              "PTRATIO    0\n",
              "B          0\n",
              "LSTAT      0\n",
              "MEDV       0\n",
              "dtype: int64"
            ]
          },
          "metadata": {
            "tags": []
          },
          "execution_count": 5
        }
      ]
    },
    {
      "cell_type": "code",
      "metadata": {
        "colab": {
          "base_uri": "https://localhost:8080/",
          "height": 0
        },
        "id": "f9f-8WGLINwB",
        "outputId": "0910d66b-0223-4671-f5fc-e8c470ea10f3"
      },
      "source": [
        "dataset.describe().T"
      ],
      "execution_count": 6,
      "outputs": [
        {
          "output_type": "execute_result",
          "data": {
            "text/html": [
              "<div>\n",
              "<style scoped>\n",
              "    .dataframe tbody tr th:only-of-type {\n",
              "        vertical-align: middle;\n",
              "    }\n",
              "\n",
              "    .dataframe tbody tr th {\n",
              "        vertical-align: top;\n",
              "    }\n",
              "\n",
              "    .dataframe thead th {\n",
              "        text-align: right;\n",
              "    }\n",
              "</style>\n",
              "<table border=\"1\" class=\"dataframe\">\n",
              "  <thead>\n",
              "    <tr style=\"text-align: right;\">\n",
              "      <th></th>\n",
              "      <th>count</th>\n",
              "      <th>mean</th>\n",
              "      <th>std</th>\n",
              "      <th>min</th>\n",
              "      <th>25%</th>\n",
              "      <th>50%</th>\n",
              "      <th>75%</th>\n",
              "      <th>max</th>\n",
              "    </tr>\n",
              "  </thead>\n",
              "  <tbody>\n",
              "    <tr>\n",
              "      <th>CRIM</th>\n",
              "      <td>506.0</td>\n",
              "      <td>3.613524</td>\n",
              "      <td>8.601545</td>\n",
              "      <td>0.00632</td>\n",
              "      <td>0.082045</td>\n",
              "      <td>0.25651</td>\n",
              "      <td>3.677083</td>\n",
              "      <td>88.9762</td>\n",
              "    </tr>\n",
              "    <tr>\n",
              "      <th>ZN</th>\n",
              "      <td>506.0</td>\n",
              "      <td>11.363636</td>\n",
              "      <td>23.322453</td>\n",
              "      <td>0.00000</td>\n",
              "      <td>0.000000</td>\n",
              "      <td>0.00000</td>\n",
              "      <td>12.500000</td>\n",
              "      <td>100.0000</td>\n",
              "    </tr>\n",
              "    <tr>\n",
              "      <th>INDUS</th>\n",
              "      <td>506.0</td>\n",
              "      <td>11.136779</td>\n",
              "      <td>6.860353</td>\n",
              "      <td>0.46000</td>\n",
              "      <td>5.190000</td>\n",
              "      <td>9.69000</td>\n",
              "      <td>18.100000</td>\n",
              "      <td>27.7400</td>\n",
              "    </tr>\n",
              "    <tr>\n",
              "      <th>CHAS</th>\n",
              "      <td>506.0</td>\n",
              "      <td>0.069170</td>\n",
              "      <td>0.253994</td>\n",
              "      <td>0.00000</td>\n",
              "      <td>0.000000</td>\n",
              "      <td>0.00000</td>\n",
              "      <td>0.000000</td>\n",
              "      <td>1.0000</td>\n",
              "    </tr>\n",
              "    <tr>\n",
              "      <th>NOX</th>\n",
              "      <td>506.0</td>\n",
              "      <td>0.554695</td>\n",
              "      <td>0.115878</td>\n",
              "      <td>0.38500</td>\n",
              "      <td>0.449000</td>\n",
              "      <td>0.53800</td>\n",
              "      <td>0.624000</td>\n",
              "      <td>0.8710</td>\n",
              "    </tr>\n",
              "    <tr>\n",
              "      <th>RM</th>\n",
              "      <td>506.0</td>\n",
              "      <td>6.284634</td>\n",
              "      <td>0.702617</td>\n",
              "      <td>3.56100</td>\n",
              "      <td>5.885500</td>\n",
              "      <td>6.20850</td>\n",
              "      <td>6.623500</td>\n",
              "      <td>8.7800</td>\n",
              "    </tr>\n",
              "    <tr>\n",
              "      <th>AGE</th>\n",
              "      <td>506.0</td>\n",
              "      <td>68.574901</td>\n",
              "      <td>28.148861</td>\n",
              "      <td>2.90000</td>\n",
              "      <td>45.025000</td>\n",
              "      <td>77.50000</td>\n",
              "      <td>94.075000</td>\n",
              "      <td>100.0000</td>\n",
              "    </tr>\n",
              "    <tr>\n",
              "      <th>DIS</th>\n",
              "      <td>506.0</td>\n",
              "      <td>3.795043</td>\n",
              "      <td>2.105710</td>\n",
              "      <td>1.12960</td>\n",
              "      <td>2.100175</td>\n",
              "      <td>3.20745</td>\n",
              "      <td>5.188425</td>\n",
              "      <td>12.1265</td>\n",
              "    </tr>\n",
              "    <tr>\n",
              "      <th>RAD</th>\n",
              "      <td>506.0</td>\n",
              "      <td>9.549407</td>\n",
              "      <td>8.707259</td>\n",
              "      <td>1.00000</td>\n",
              "      <td>4.000000</td>\n",
              "      <td>5.00000</td>\n",
              "      <td>24.000000</td>\n",
              "      <td>24.0000</td>\n",
              "    </tr>\n",
              "    <tr>\n",
              "      <th>TAX</th>\n",
              "      <td>506.0</td>\n",
              "      <td>408.237154</td>\n",
              "      <td>168.537116</td>\n",
              "      <td>187.00000</td>\n",
              "      <td>279.000000</td>\n",
              "      <td>330.00000</td>\n",
              "      <td>666.000000</td>\n",
              "      <td>711.0000</td>\n",
              "    </tr>\n",
              "    <tr>\n",
              "      <th>PTRATIO</th>\n",
              "      <td>506.0</td>\n",
              "      <td>18.455534</td>\n",
              "      <td>2.164946</td>\n",
              "      <td>12.60000</td>\n",
              "      <td>17.400000</td>\n",
              "      <td>19.05000</td>\n",
              "      <td>20.200000</td>\n",
              "      <td>22.0000</td>\n",
              "    </tr>\n",
              "    <tr>\n",
              "      <th>B</th>\n",
              "      <td>506.0</td>\n",
              "      <td>356.674032</td>\n",
              "      <td>91.294864</td>\n",
              "      <td>0.32000</td>\n",
              "      <td>375.377500</td>\n",
              "      <td>391.44000</td>\n",
              "      <td>396.225000</td>\n",
              "      <td>396.9000</td>\n",
              "    </tr>\n",
              "    <tr>\n",
              "      <th>LSTAT</th>\n",
              "      <td>506.0</td>\n",
              "      <td>12.653063</td>\n",
              "      <td>7.141062</td>\n",
              "      <td>1.73000</td>\n",
              "      <td>6.950000</td>\n",
              "      <td>11.36000</td>\n",
              "      <td>16.955000</td>\n",
              "      <td>37.9700</td>\n",
              "    </tr>\n",
              "    <tr>\n",
              "      <th>MEDV</th>\n",
              "      <td>506.0</td>\n",
              "      <td>22.532806</td>\n",
              "      <td>9.197104</td>\n",
              "      <td>5.00000</td>\n",
              "      <td>17.025000</td>\n",
              "      <td>21.20000</td>\n",
              "      <td>25.000000</td>\n",
              "      <td>50.0000</td>\n",
              "    </tr>\n",
              "  </tbody>\n",
              "</table>\n",
              "</div>"
            ],
            "text/plain": [
              "         count        mean         std  ...        50%         75%       max\n",
              "CRIM     506.0    3.613524    8.601545  ...    0.25651    3.677083   88.9762\n",
              "ZN       506.0   11.363636   23.322453  ...    0.00000   12.500000  100.0000\n",
              "INDUS    506.0   11.136779    6.860353  ...    9.69000   18.100000   27.7400\n",
              "CHAS     506.0    0.069170    0.253994  ...    0.00000    0.000000    1.0000\n",
              "NOX      506.0    0.554695    0.115878  ...    0.53800    0.624000    0.8710\n",
              "RM       506.0    6.284634    0.702617  ...    6.20850    6.623500    8.7800\n",
              "AGE      506.0   68.574901   28.148861  ...   77.50000   94.075000  100.0000\n",
              "DIS      506.0    3.795043    2.105710  ...    3.20745    5.188425   12.1265\n",
              "RAD      506.0    9.549407    8.707259  ...    5.00000   24.000000   24.0000\n",
              "TAX      506.0  408.237154  168.537116  ...  330.00000  666.000000  711.0000\n",
              "PTRATIO  506.0   18.455534    2.164946  ...   19.05000   20.200000   22.0000\n",
              "B        506.0  356.674032   91.294864  ...  391.44000  396.225000  396.9000\n",
              "LSTAT    506.0   12.653063    7.141062  ...   11.36000   16.955000   37.9700\n",
              "MEDV     506.0   22.532806    9.197104  ...   21.20000   25.000000   50.0000\n",
              "\n",
              "[14 rows x 8 columns]"
            ]
          },
          "metadata": {
            "tags": []
          },
          "execution_count": 6
        }
      ]
    },
    {
      "cell_type": "code",
      "metadata": {
        "colab": {
          "base_uri": "https://localhost:8080/",
          "height": 0
        },
        "id": "AJACxRXdJ61z",
        "outputId": "b23c9333-3641-41bd-844c-c349fe61eb6a"
      },
      "source": [
        "fig,axes=plt.subplots(1,2,figsize=(10,5))\n",
        "sns.histplot(dataset.MEDV,ax=axes[0])\n",
        "sns.histplot(np.log(dataset.MEDV),ax=axes[1])"
      ],
      "execution_count": 7,
      "outputs": [
        {
          "output_type": "execute_result",
          "data": {
            "text/plain": [
              "<matplotlib.axes._subplots.AxesSubplot at 0x7fe45ea80110>"
            ]
          },
          "metadata": {
            "tags": []
          },
          "execution_count": 7
        },
        {
          "output_type": "display_data",
          "data": {
            "image/png": "[encoded data removed]",
            "text/plain": [
              "<Figure size 720x360 with 2 Axes>"
            ]
          },
          "metadata": {
            "tags": [],
            "needs_background": "light"
          }
        }
      ]
    },
    {
      "cell_type": "code",
      "metadata": {
        "colab": {
          "base_uri": "https://localhost:8080/",
          "height": 0
        },
        "id": "3HW56wqqKr9r",
        "outputId": "fd4c0247-4bb4-4bff-91f0-8b444a560b64"
      },
      "source": [
        "corr=dataset.corr()\n",
        "plt.figure(figsize=(10,10))\n",
        "sns.heatmap(corr,cmap='RdBu',annot=True)\n"
      ],
      "execution_count": 8,
      "outputs": [
        {
          "output_type": "execute_result",
          "data": {
            "text/plain": [
              "<matplotlib.axes._subplots.AxesSubplot at 0x7fe45e9ec850>"
            ]
          },
          "metadata": {
            "tags": []
          },
          "execution_count": 8
        },
        {
          "output_type": "display_data",
          "data": {
            "image/png": "[encoded data removed]",
            "text/plain": [
              "<Figure size 720x720 with 2 Axes>"
            ]
          },
          "metadata": {
            "tags": [],
            "needs_background": "light"
          }
        }
      ]
    },
    {
      "cell_type": "code",
      "metadata": {
        "colab": {
          "base_uri": "https://localhost:8080/",
          "height": 0
        },
        "id": "h4o6sGKZUG3y",
        "outputId": "188958ac-474a-42d0-d7a8-5cc9ede36a0f"
      },
      "source": [
        "fig, ax=plt.subplots(5,3,figsize = (10,20))\n",
        "ax=ax.flatten()\n",
        "index = 0\n",
        "for k,v in dataset.items():\n",
        "  sns.histplot(dataset[k],ax = ax[index])\n",
        "  index+=1"
      ],
      "execution_count": 9,
      "outputs": [
        {
          "output_type": "display_data",
          "data": {
            "image/png": "[encoded data removed]",
            "text/plain": [
              "<Figure size 720x1440 with 15 Axes>"
            ]
          },
          "metadata": {
            "tags": [],
            "needs_background": "light"
          }
        }
      ]
    },
    {
      "cell_type": "code",
      "metadata": {
        "colab": {
          "base_uri": "https://localhost:8080/",
          "height": 0
        },
        "id": "OvuiqQeBUjSX",
        "outputId": "178d2242-9243-455b-8ad0-1c5b5225bb2f"
      },
      "source": [
        "unusual_columns = ['CRIM','B','ZN']\n",
        "fig, ax = plt.subplots(1,3,figsize = (15,5))\n",
        "ax = ax.flatten()\n",
        "index = 0\n",
        "for k in unusual_columns:\n",
        "  sns.boxenplot(dataset[k],ax=ax[index])\n",
        "  index+=1"
      ],
      "execution_count": 10,
      "outputs": [
        {
          "output_type": "stream",
          "text": [
            "/usr/local/lib/python3.7/dist-packages/seaborn/_decorators.py:43: FutureWarning: Pass the following variable as a keyword arg: x. From version 0.12, the only valid positional argument will be `data`, and passing other arguments without an explicit keyword will result in an error or misinterpretation.\n",
            "  FutureWarning\n",
            "/usr/local/lib/python3.7/dist-packages/seaborn/_decorators.py:43: FutureWarning: Pass the following variable as a keyword arg: x. From version 0.12, the only valid positional argument will be `data`, and passing other arguments without an explicit keyword will result in an error or misinterpretation.\n",
            "  FutureWarning\n",
            "/usr/local/lib/python3.7/dist-packages/seaborn/_decorators.py:43: FutureWarning: Pass the following variable as a keyword arg: x. From version 0.12, the only valid positional argument will be `data`, and passing other arguments without an explicit keyword will result in an error or misinterpretation.\n",
            "  FutureWarning\n"
          ],
          "name": "stderr"
        },
        {
          "output_type": "display_data",
          "data": {
            "image/png": "[encoded data removed]",
            "text/plain": [
              "<Figure size 1080x360 with 3 Axes>"
            ]
          },
          "metadata": {
            "tags": [],
            "needs_background": "light"
          }
        }
      ]
    },
    {
      "cell_type": "code",
      "metadata": {
        "colab": {
          "base_uri": "https://localhost:8080/",
          "height": 0
        },
        "id": "nZpw842Pk0t1",
        "outputId": "3a543176-cb05-4173-ab70-0bee7bf35e38"
      },
      "source": [
        "sns.histplot(np.log(dataset['AGE']))"
      ],
      "execution_count": 11,
      "outputs": [
        {
          "output_type": "execute_result",
          "data": {
            "text/plain": [
              "<matplotlib.axes._subplots.AxesSubplot at 0x7fe452cd9110>"
            ]
          },
          "metadata": {
            "tags": []
          },
          "execution_count": 11
        },
        {
          "output_type": "display_data",
          "data": {
            "image/png": "[encoded data removed]",
            "text/plain": [
              "<Figure size 432x288 with 1 Axes>"
            ]
          },
          "metadata": {
            "tags": [],
            "needs_background": "light"
          }
        }
      ]
    },
    {
      "cell_type": "code",
      "metadata": {
        "colab": {
          "base_uri": "https://localhost:8080/"
        },
        "id": "Ww042VHYmf__",
        "outputId": "19c3e714-8326-4e66-9f80-15d73a1acbd4"
      },
      "source": [
        "con_1=dataset['ZN']<30  \n",
        "con_2=dataset['B']>340\n",
        "new_data=dataset[(dataset['ZN']<30) & (dataset['B']>340)]\n",
        "new_data.shape"
      ],
      "execution_count": 12,
      "outputs": [
        {
          "output_type": "execute_result",
          "data": {
            "text/plain": [
              "(359, 14)"
            ]
          },
          "metadata": {
            "tags": []
          },
          "execution_count": 12
        }
      ]
    },
    {
      "cell_type": "markdown",
      "metadata": {
        "id": "g3qSOaD-nff5"
      },
      "source": [
        "#Regression Models"
      ]
    },
    {
      "cell_type": "code",
      "metadata": {
        "id": "MUic-6_lSX_I"
      },
      "source": [
        "X = dataset.iloc[:,0:13]\n",
        "y = dataset.iloc[:,-1]"
      ],
      "execution_count": 14,
      "outputs": []
    },
    {
      "cell_type": "code",
      "metadata": {
        "id": "MHNKus7RS23c",
        "colab": {
          "base_uri": "https://localhost:8080/"
        },
        "outputId": "62d7a0e9-804e-4e81-ac1a-f97fdf4faefb"
      },
      "source": [
        "y.head()"
      ],
      "execution_count": 15,
      "outputs": [
        {
          "output_type": "execute_result",
          "data": {
            "text/plain": [
              "0    24.0\n",
              "1    21.6\n",
              "2    34.7\n",
              "3    33.4\n",
              "4    36.2\n",
              "Name: MEDV, dtype: float64"
            ]
          },
          "metadata": {
            "tags": []
          },
          "execution_count": 15
        }
      ]
    },
    {
      "cell_type": "code",
      "metadata": {
        "id": "WzVoal0oqhai"
      },
      "source": [
        "from sklearn.model_selection import train_test_split\n",
        "X_train, X_test, y_train, y_test = train_test_split(X, y, test_size = 0.3, random_state = 25)"
      ],
      "execution_count": 16,
      "outputs": []
    },
    {
      "cell_type": "code",
      "metadata": {
        "colab": {
          "base_uri": "https://localhost:8080/"
        },
        "id": "6cIigTDktDp8",
        "outputId": "f2d7e03c-7f7a-410c-81ab-bff9a79b0217"
      },
      "source": [
        "print(X_train.shape)\n",
        "print(X_test.shape)"
      ],
      "execution_count": 17,
      "outputs": [
        {
          "output_type": "stream",
          "text": [
            "(354, 13)\n",
            "(152, 13)\n"
          ],
          "name": "stdout"
        }
      ]
    },
    {
      "cell_type": "code",
      "metadata": {
        "id": "3c0aVqTEafM6"
      },
      "source": [
        "from sklearn.preprocessing import StandardScaler\n",
        "scalar = StandardScaler().fit(X_train)\n",
        "X_train_scaled = scalar.fit_transform(X_train)\n",
        "X_test_scaled = scalar.fit_transform(X_test)"
      ],
      "execution_count": 18,
      "outputs": []
    },
    {
      "cell_type": "code",
      "metadata": {
        "id": "GZbC3zFTa7mB"
      },
      "source": [
        ""
      ],
      "execution_count": 18,
      "outputs": []
    },
    {
      "cell_type": "markdown",
      "metadata": {
        "id": "Snplx9h1P8NB"
      },
      "source": [
        "#Linear Regression"
      ]
    },
    {
      "cell_type": "code",
      "metadata": {
        "id": "72L807mWgT0G"
      },
      "source": [
        "def rmse(y_true, y_pred):\n",
        "  return np.sqrt(mean_squared_error(y_true,y_pred))\n",
        "def CV(cv_score):\n",
        "  return np.sqrt(np.mean(np.abs(cv_score)))\n",
        "record=[]"
      ],
      "execution_count": 86,
      "outputs": []
    },
    {
      "cell_type": "code",
      "metadata": {
        "id": "-le-Z8CCni0T",
        "colab": {
          "base_uri": "https://localhost:8080/"
        },
        "outputId": "56d5f611-691a-440e-dbe0-302e705661d1"
      },
      "source": [
        "from sklearn.linear_model import LinearRegression\n",
        "from sklearn.metrics import r2_score\n",
        "model_linear = LinearRegression()\n",
        "cv_linear = cross_val_score(estimator = model_linear,X=X,y=y,cv=5,scoring='neg_mean_squared_error')\n",
        "cv_linear_mean = np.sqrt(np.mean(np.abs(cv_linear)))\n",
        "model_linear.fit(X_train,y_train)\n",
        "y_pred = model_linear.predict(X_test)\n",
        "rmse_linear= np.sqrt(mean_squared_error(y_test,y_pred))\n",
        "r2_linear =r2_score(y_test,y_pred)\n",
        "record.append(['linear',cv_linear_mean,rmse_linear,r2_linear])\n",
        "print('cv={}, rmse = {}, r2_score = {}'.format(cv_linear_mean,rmse_linear,r2_linear))"
      ],
      "execution_count": 87,
      "outputs": [
        {
          "output_type": "stream",
          "text": [
            "cv=6.093587405436871, rmse = 4.647279745724219, r2_score = 0.7133593313710342\n"
          ],
          "name": "stdout"
        }
      ]
    },
    {
      "cell_type": "code",
      "metadata": {
        "colab": {
          "base_uri": "https://localhost:8080/",
          "height": 368
        },
        "id": "OyPnNl57gnaQ",
        "outputId": "ef5d93a4-2f8b-4668-81d7-3185e11953b3"
      },
      "source": [
        "print(model_linear.coef_)\n",
        "sns.regplot(x=y_test,y=y_pred)"
      ],
      "execution_count": 21,
      "outputs": [
        {
          "output_type": "stream",
          "text": [
            "[-1.15254380e-01  5.05163648e-02  2.73670712e-02  7.30471064e-01\n",
            " -1.89833026e+01  4.03133215e+00 -4.82896709e-03 -1.54999896e+00\n",
            "  3.67470486e-01 -1.66700680e-02 -9.85758737e-01  7.44544822e-03\n",
            " -4.59169535e-01]\n"
          ],
          "name": "stdout"
        },
        {
          "output_type": "execute_result",
          "data": {
            "text/plain": [
              "<matplotlib.axes._subplots.AxesSubplot at 0x7fe452e3cf90>"
            ]
          },
          "metadata": {
            "tags": []
          },
          "execution_count": 21
        },
        {
          "output_type": "display_data",
          "data": {
            "image/png": "[encoded data removed]",
            "text/plain": [
              "<Figure size 432x288 with 1 Axes>"
            ]
          },
          "metadata": {
            "tags": [],
            "needs_background": "light"
          }
        }
      ]
    },
    {
      "cell_type": "markdown",
      "metadata": {
        "id": "4EsXqHCcg7sf"
      },
      "source": [
        "#Polynomial regression"
      ]
    },
    {
      "cell_type": "code",
      "metadata": {
        "id": "To6ctZ6Mg5eu"
      },
      "source": [
        "from sklearn.preprocessing import PolynomialFeatures\n",
        "poly = PolynomialFeatures(degree = 2)\n",
        "model_polynomial = LinearRegression()\n",
        "X_poly = poly.fit_transform(X)\n",
        "X_train_poly = poly.fit_transform(X_train)\n",
        "X_test_poly = poly.transform(X_test)\n",
        "cv_polynommial = CV(cross_val_score(model_polynomial,X_poly,y,cv=5,scoring='neg_mean_squared_error'))\n",
        "model_polynomial.fit(X_train_poly,y_train)\n",
        "y_pred_poly = model_polynomial.predict(X_test_poly)\n",
        "rmse_polynomial = rmse(y_test,y_pred_poly)\n",
        "r2_poly = r2_score(y_test,y_pred_poly)\n",
        "record.append(['polynomial',cv_polynommial,rmse_polynomial,r2_poly])"
      ],
      "execution_count": 88,
      "outputs": []
    },
    {
      "cell_type": "code",
      "metadata": {
        "colab": {
          "base_uri": "https://localhost:8080/"
        },
        "id": "PlzNnoLGUB4l",
        "outputId": "965c2b36-adae-4346-bbc4-b7dc95b043db"
      },
      "source": [
        "record"
      ],
      "execution_count": 23,
      "outputs": [
        {
          "output_type": "execute_result",
          "data": {
            "text/plain": [
              "[['linear', 6.093587405436871, 4.647279745724219, 0.7133593313710342],\n",
              " ['polynomial', 16.6105938641427, 4.194313207139797, 0.7665134369454242]]"
            ]
          },
          "metadata": {
            "tags": []
          },
          "execution_count": 23
        }
      ]
    },
    {
      "cell_type": "code",
      "metadata": {
        "colab": {
          "base_uri": "https://localhost:8080/",
          "height": 352
        },
        "id": "Us-hqdkJAJa2",
        "outputId": "81780fc7-fd01-45f2-91c5-f904946ea17a"
      },
      "source": [
        "sns.regplot(y_test,y_pred_poly)"
      ],
      "execution_count": 24,
      "outputs": [
        {
          "output_type": "stream",
          "text": [
            "/usr/local/lib/python3.7/dist-packages/seaborn/_decorators.py:43: FutureWarning: Pass the following variables as keyword args: x, y. From version 0.12, the only valid positional argument will be `data`, and passing other arguments without an explicit keyword will result in an error or misinterpretation.\n",
            "  FutureWarning\n"
          ],
          "name": "stderr"
        },
        {
          "output_type": "execute_result",
          "data": {
            "text/plain": [
              "<matplotlib.axes._subplots.AxesSubplot at 0x7fe44f40be90>"
            ]
          },
          "metadata": {
            "tags": []
          },
          "execution_count": 24
        },
        {
          "output_type": "display_data",
          "data": {
            "image/png": "[encoded data removed]",
            "text/plain": [
              "<Figure size 432x288 with 1 Axes>"
            ]
          },
          "metadata": {
            "tags": [],
            "needs_background": "light"
          }
        }
      ]
    },
    {
      "cell_type": "markdown",
      "metadata": {
        "id": "IeBSiUEUfHdi"
      },
      "source": [
        "#Ridge regression"
      ]
    },
    {
      "cell_type": "code",
      "metadata": {
        "colab": {
          "base_uri": "https://localhost:8080/"
        },
        "id": "wqe10-liI-jB",
        "outputId": "c32227fc-7abf-4b9f-ec95-6a8d4dd1ccd7"
      },
      "source": [
        "from sklearn.linear_model import Ridge\n",
        "from sklearn.preprocessing import StandardScaler\n",
        "from sklearn.pipeline import Pipeline\n",
        "\n",
        "steps = [('scalar',StandardScaler()),\n",
        "         ('poly',PolynomialFeatures(degree=2)),\n",
        "         ('model',Ridge(alpha=2.1,fit_intercept  = True))]\n",
        "ridge_pipe = Pipeline(steps)\n",
        "cv_ridge = CV(cross_val_score(ridge_pipe,X,y,cv = 5, scoring='neg_mean_squared_error'))\n",
        "ridge_pipe.fit(X_train,y_train)\n",
        "y_pred_ridge  = ridge_pipe.predict(X_test)\n",
        "rmse_ridge = rmse(y_test,y_pred_ridge)\n",
        "r2_ridge = r2_score(y_test,y_pred_ridge)\n",
        "print(cv_ridge,rmse_ridge,r2_ridge)\n",
        "                                                                            "
      ],
      "execution_count": 89,
      "outputs": [
        {
          "output_type": "stream",
          "text": [
            "7.699995310857476 2.870198440461652 0.8906637876940214\n"
          ],
          "name": "stdout"
        }
      ]
    },
    {
      "cell_type": "code",
      "metadata": {
        "colab": {
          "base_uri": "https://localhost:8080/"
        },
        "id": "6WZ0cKT8R4pJ",
        "outputId": "ba6ce2d5-4128-4531-f1cb-a73769dc6e49"
      },
      "source": [
        "record.append(['Ridge',cv_ridge,rmse_ridge,r2_ridge])\n",
        "record"
      ],
      "execution_count": 92,
      "outputs": [
        {
          "output_type": "execute_result",
          "data": {
            "text/plain": [
              "[['linear', 6.093587405436871, 4.647279745724219, 0.7133593313710342],\n",
              " ['polynomial', 16.6105938641427, 4.194313207139797, 0.7665134369454242],\n",
              " ['lasso', 6.210549368876404, 3.3093594007219074, 0.854645645844702],\n",
              " ['Ridge', 7.699995310857476, 2.870198440461652, 0.8906637876940214]]"
            ]
          },
          "metadata": {
            "tags": []
          },
          "execution_count": 92
        }
      ]
    },
    {
      "cell_type": "markdown",
      "metadata": {
        "id": "qlyuwj5UU79C"
      },
      "source": [
        "#Lasso regression"
      ]
    },
    {
      "cell_type": "code",
      "metadata": {
        "colab": {
          "base_uri": "https://localhost:8080/"
        },
        "id": "Gzy-suejU-wL",
        "outputId": "662892fa-c12c-4b36-c18d-1c801437d3a0"
      },
      "source": [
        "from sklearn.linear_model import Lasso\n",
        "steps = [('scalar',StandardScaler()),\n",
        "         ('poly',PolynomialFeatures(degree=2)),\n",
        "         ('model',Lasso(alpha=0.1,fit_intercept  = True))]\n",
        "lasso_pipe = Pipeline(steps)\n",
        "cv_lasso = CV(cross_val_score(lasso_pipe,X,y,cv = 5, scoring='neg_mean_squared_error'))\n",
        "lasso_pipe.fit(X_train,y_train)\n",
        "y_pred_lasso  = lasso_pipe.predict(X_test)\n",
        "rmse_lasso = rmse(y_test,y_pred_lasso)\n",
        "r2_lasso = r2_score(y_test,y_pred_lasso)\n",
        "print('cv_lasso ={},rmse_lasso={},r2_lasso={}'.format(cv_lasso,rmse_lasso,r2_lasso))"
      ],
      "execution_count": 90,
      "outputs": [
        {
          "output_type": "stream",
          "text": [
            "cv_lasso =6.210549368876404,rmse_lasso=3.3093594007219074,r2_lasso=0.854645645844702\n"
          ],
          "name": "stdout"
        }
      ]
    },
    {
      "cell_type": "code",
      "metadata": {
        "id": "olfy68y9hUcJ"
      },
      "source": [
        "lasso_pipe.named_steps['model'].coef_"
      ],
      "execution_count": null,
      "outputs": []
    },
    {
      "cell_type": "code",
      "metadata": {
        "colab": {
          "base_uri": "https://localhost:8080/"
        },
        "id": "7kyqW_orU-qB",
        "outputId": "e63342c5-61f0-4527-8d31-b8ae9bb934f7"
      },
      "source": [
        "record.append(['lasso',cv_lasso,rmse_lasso,r2_lasso])\n",
        "record"
      ],
      "execution_count": 91,
      "outputs": [
        {
          "output_type": "execute_result",
          "data": {
            "text/plain": [
              "[['linear', 6.093587405436871, 4.647279745724219, 0.7133593313710342],\n",
              " ['polynomial', 16.6105938641427, 4.194313207139797, 0.7665134369454242],\n",
              " ['lasso', 6.210549368876404, 3.3093594007219074, 0.854645645844702]]"
            ]
          },
          "metadata": {
            "tags": []
          },
          "execution_count": 91
        }
      ]
    },
    {
      "cell_type": "markdown",
      "metadata": {
        "id": "uHZ6pXZOmt12"
      },
      "source": [
        "#support vector regression"
      ]
    },
    {
      "cell_type": "code",
      "metadata": {
        "colab": {
          "base_uri": "https://localhost:8080/"
        },
        "id": "wxlzBQj7mtbI",
        "outputId": "15e5dc67-220d-466d-dab0-61252a28a15f"
      },
      "source": [
        "from sklearn.svm import SVR\n",
        "steps = [('scalar',StandardScaler()),('model',SVR(kernel='rbf'))]\n",
        "svr_pipe = Pipeline(steps)     \n",
        "cv_svr = CV(cross_val_score(svr_pipe,X,y,cv=5,scoring='neg_mean_squared_error'))\n",
        "svr_pipe.fit(X_train,y_train)\n",
        "y_pred_svr = svr_pipe.predict(X_test)\n",
        "rmse_svr = rmse(y_test,y_pred_svr)\n",
        "r2_svr = r2_score(y_test,y_pred_svr)\n",
        "print('cv={} rmse={} r2 = {}'.format(cv_svr,rmse_svr,r2_svr))                                 "
      ],
      "execution_count": 93,
      "outputs": [
        {
          "output_type": "stream",
          "text": [
            "cv=6.857701413264033 rmse=5.429907285927572 r2 = 0.6086863433166121\n"
          ],
          "name": "stdout"
        }
      ]
    },
    {
      "cell_type": "code",
      "metadata": {
        "colab": {
          "base_uri": "https://localhost:8080/"
        },
        "id": "HAF9bqVfrqY9",
        "outputId": "6a449d03-906b-4cfc-fb1f-8d6c1c7b062c"
      },
      "source": [
        "record.append(['SVR',cv_svr,rmse_svr,r2_svr])\n",
        "record"
      ],
      "execution_count": 94,
      "outputs": [
        {
          "output_type": "execute_result",
          "data": {
            "text/plain": [
              "[['linear', 6.093587405436871, 4.647279745724219, 0.7133593313710342],\n",
              " ['polynomial', 16.6105938641427, 4.194313207139797, 0.7665134369454242],\n",
              " ['lasso', 6.210549368876404, 3.3093594007219074, 0.854645645844702],\n",
              " ['Ridge', 7.699995310857476, 2.870198440461652, 0.8906637876940214],\n",
              " ['SVR', 6.857701413264033, 5.429907285927572, 0.6086863433166121]]"
            ]
          },
          "metadata": {
            "tags": []
          },
          "execution_count": 94
        }
      ]
    },
    {
      "cell_type": "markdown",
      "metadata": {
        "id": "J-dRFhnwsV8q"
      },
      "source": [
        "#Model Evaluation"
      ]
    },
    {
      "cell_type": "code",
      "metadata": {
        "colab": {
          "base_uri": "https://localhost:8080/",
          "height": 194
        },
        "id": "h0GeRoM4sf6J",
        "outputId": "0d7cabae-7021-46fb-873c-3e04021b9087"
      },
      "source": [
        "import pandas as pd\n",
        "df = pd.DataFrame(record,columns=['regression_type','cv_score','rmse','r2_score'])\n",
        "df.head()"
      ],
      "execution_count": 98,
      "outputs": [
        {
          "output_type": "execute_result",
          "data": {
            "text/html": [
              "<div>\n",
              "<style scoped>\n",
              "    .dataframe tbody tr th:only-of-type {\n",
              "        vertical-align: middle;\n",
              "    }\n",
              "\n",
              "    .dataframe tbody tr th {\n",
              "        vertical-align: top;\n",
              "    }\n",
              "\n",
              "    .dataframe thead th {\n",
              "        text-align: right;\n",
              "    }\n",
              "</style>\n",
              "<table border=\"1\" class=\"dataframe\">\n",
              "  <thead>\n",
              "    <tr style=\"text-align: right;\">\n",
              "      <th></th>\n",
              "      <th>regression_type</th>\n",
              "      <th>cv_score</th>\n",
              "      <th>rmse</th>\n",
              "      <th>r2_score</th>\n",
              "    </tr>\n",
              "  </thead>\n",
              "  <tbody>\n",
              "    <tr>\n",
              "      <th>0</th>\n",
              "      <td>linear</td>\n",
              "      <td>6.093587</td>\n",
              "      <td>4.647280</td>\n",
              "      <td>0.713359</td>\n",
              "    </tr>\n",
              "    <tr>\n",
              "      <th>1</th>\n",
              "      <td>polynomial</td>\n",
              "      <td>16.610594</td>\n",
              "      <td>4.194313</td>\n",
              "      <td>0.766513</td>\n",
              "    </tr>\n",
              "    <tr>\n",
              "      <th>2</th>\n",
              "      <td>lasso</td>\n",
              "      <td>6.210549</td>\n",
              "      <td>3.309359</td>\n",
              "      <td>0.854646</td>\n",
              "    </tr>\n",
              "    <tr>\n",
              "      <th>3</th>\n",
              "      <td>Ridge</td>\n",
              "      <td>7.699995</td>\n",
              "      <td>2.870198</td>\n",
              "      <td>0.890664</td>\n",
              "    </tr>\n",
              "    <tr>\n",
              "      <th>4</th>\n",
              "      <td>SVR</td>\n",
              "      <td>6.857701</td>\n",
              "      <td>5.429907</td>\n",
              "      <td>0.608686</td>\n",
              "    </tr>\n",
              "  </tbody>\n",
              "</table>\n",
              "</div>"
            ],
            "text/plain": [
              "  regression_type   cv_score      rmse  r2_score\n",
              "0          linear   6.093587  4.647280  0.713359\n",
              "1      polynomial  16.610594  4.194313  0.766513\n",
              "2           lasso   6.210549  3.309359  0.854646\n",
              "3           Ridge   7.699995  2.870198  0.890664\n",
              "4             SVR   6.857701  5.429907  0.608686"
            ]
          },
          "metadata": {
            "tags": []
          },
          "execution_count": 98
        }
      ]
    },
    {
      "cell_type": "code",
      "metadata": {
        "colab": {
          "base_uri": "https://localhost:8080/",
          "height": 298
        },
        "id": "xp8Vv4hBuvzY",
        "outputId": "1d8b8eb1-2bde-4976-fe7d-71d0e609bf41"
      },
      "source": [
        "df = df.sort_values(by =['rmse'],ascending=True)\n",
        "sns.barplot(x=df.regression_type,y=df.rmse)"
      ],
      "execution_count": 100,
      "outputs": [
        {
          "output_type": "execute_result",
          "data": {
            "text/plain": [
              "<matplotlib.axes._subplots.AxesSubplot at 0x7fe44a8fc550>"
            ]
          },
          "metadata": {
            "tags": []
          },
          "execution_count": 100
        },
        {
          "output_type": "display_data",
          "data": {
            "image/png": "[encoded data removed]",
            "text/plain": [
              "<Figure size 432x288 with 1 Axes>"
            ]
          },
          "metadata": {
            "tags": [],
            "needs_background": "light"
          }
        }
      ]
    }
  ]
}